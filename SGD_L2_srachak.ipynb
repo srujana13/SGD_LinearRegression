{
 "cells": [
  {
   "cell_type": "code",
   "execution_count": 20,
   "metadata": {},
   "outputs": [],
   "source": [
    "from numpy import *\n",
    "from sklearn.linear_model import SGDRegressor, LinearRegression\n",
    "import pandas as pd\n",
    "import matplotlib.pyplot as plt\n",
    "import numpy as np\n",
    "\n",
    "lambda_val = 0.001\n",
    "# lambda_val = 0\n",
    "\n",
    "def compute_error_for_line_given_points(b, m, dataset):\n",
    "    totalError = 0\n",
    "    # Calculating sum of squared error\n",
    "    for i in range(0, len(dataset)):\n",
    "        x = dataset.iloc[i, 0]\n",
    "        y = dataset.iloc[i, 1]\n",
    "        totalError += ((y - m * x - b) ** 2)\n",
    "    # Calculating MSE\n",
    "    totalError = totalError / float(len(dataset))\n",
    "    # Adding regularization term to it\n",
    "    totalError += (lambda_val * (m ** 2))\n",
    "\n",
    "    return totalError\n",
    "\n",
    "\n",
    "def step_gradient(b_current, m_current, dataset, learningRate):\n",
    "    length = len(dataset)\n",
    "    b_gradient = 0\n",
    "    m_gradient = 0\n",
    "    N = float(length)\n",
    "    for i in range(0, length):\n",
    "        x = dataset.iloc[i,0]\n",
    "        y = dataset.iloc[i,1]\n",
    "        b_gradient = (-(2 / N) * (y - ((m_current * x) + b_current)) )\n",
    "        m_gradient = ((-(2 / N) * x * (y - ((m_current * x) + b_current))) + (2* m_current * lambda_val))\n",
    "        b_current = b_current - (learningRate * b_gradient)\n",
    "        m_current = m_current - (learningRate * m_gradient)\n",
    "    return [b_current, m_current]\n",
    "\n",
    "\n",
    "def gradient_descent_runner(dataset, starting_b, starting_m, learning_rate, num_iterations):\n",
    "    b = starting_b\n",
    "    m = starting_m\n",
    "    for i in range(num_iterations):\n",
    "        b, m = step_gradient(b, m, dataset, learning_rate)\n",
    "    return [b, m]\n"
   ]
  },
  {
   "cell_type": "code",
   "execution_count": 21,
   "metadata": {},
   "outputs": [],
   "source": [
    "def driver():\n",
    "    dataset = pd.read_csv(\"./data.csv\", header = None)\n",
    "    # Shuffling data for stochastic gradient descent \n",
    "    shuffled_data = dataset.reindex(np.random.permutation(dataset.index))\n",
    "\n",
    "    learning_rate = 0.0001\n",
    "    initial_b = 0 \n",
    "    initial_m = 0\n",
    "    num_iterations = 1000\n",
    "    print(\"Starting gradient descent at b = {0}, m = {1}, error = {2}\".format(initial_b, initial_m,\n",
    "                                                                              compute_error_for_line_given_points(\n",
    "                                                                                  initial_b, initial_m, shuffled_data)))\n",
    "    print(\"Running...\")\n",
    "    [b, m] = gradient_descent_runner(dataset, initial_b, initial_m, learning_rate, num_iterations)\n",
    "    print(\"After {0} iterations b = {1}, m = {2}, error = {3}\".format(num_iterations, b, m,compute_error_for_line_given_points(b, m,shuffled_data)))"
   ]
  },
  {
   "cell_type": "code",
   "execution_count": 22,
   "metadata": {},
   "outputs": [
    {
     "name": "stdout",
     "output_type": "stream",
     "text": [
      "Starting gradient descent at b = 0, m = 0, error = 5565.107834483213\n",
      "Running...\n",
      "After 1000 iterations b = 0.08958342023423242, m = 1.4849064141647341, error = 112.74495100081563\n"
     ]
    }
   ],
   "source": [
    "driver()"
   ]
  },
  {
   "cell_type": "code",
   "execution_count": 23,
   "metadata": {},
   "outputs": [
    {
     "name": "stderr",
     "output_type": "stream",
     "text": [
      "test_SGD (__main__.TestNotebook) ... "
     ]
    },
    {
     "name": "stdout",
     "output_type": "stream",
     "text": [
      "m = 0.9997538580979346\n",
      "b =0.01560170111743508\n"
     ]
    },
    {
     "name": "stderr",
     "output_type": "stream",
     "text": [
      "ok\n",
      "\n",
      "----------------------------------------------------------------------\n",
      "Ran 1 test in 2.250s\n",
      "\n",
      "OK\n"
     ]
    },
    {
     "data": {
      "text/plain": [
       "<unittest.main.TestProgram at 0x1090a8d68>"
      ]
     },
     "execution_count": 23,
     "metadata": {},
     "output_type": "execute_result"
    }
   ],
   "source": [
    "import numpy as np\n",
    "import unittest\n",
    "\n",
    "class TestNotebook(unittest.TestCase):\n",
    "\n",
    "\n",
    "    def test_SGD(self):\n",
    "        # Testing SGD for y = x line data points. \n",
    "        X = range(0,100)\n",
    "        Y = range(0,100)\n",
    "        test_data = pd.DataFrame(list(zip(X,Y)))\n",
    "        b, m = gradient_descent_runner(test_data, 0 , 0 , 0.0001, 1000)\n",
    "        print(\"m = \" + str(m))\n",
    "        print(\"b =\" + str(b))\n",
    "        # expecting slope to be 1\n",
    "        np.testing.assert_almost_equal(m, 1, decimal = 1)\n",
    "        # expecting intercept to be 0\n",
    "        np.testing.assert_almost_equal(b, 0, decimal = 1)\n",
    "       \n",
    "unittest.main(argv=[''], verbosity=2, exit=False)"
   ]
  },
  {
   "cell_type": "code",
   "execution_count": null,
   "metadata": {},
   "outputs": [],
   "source": []
  }
 ],
 "metadata": {
  "kernelspec": {
   "display_name": "Python 3",
   "language": "python",
   "name": "python3"
  },
  "language_info": {
   "codemirror_mode": {
    "name": "ipython",
    "version": 3
   },
   "file_extension": ".py",
   "mimetype": "text/x-python",
   "name": "python",
   "nbconvert_exporter": "python",
   "pygments_lexer": "ipython3",
   "version": "3.7.3"
  }
 },
 "nbformat": 4,
 "nbformat_minor": 2
}
